{
 "cells": [
  {
   "cell_type": "code",
   "execution_count": 19,
   "metadata": {
    "collapsed": false
   },
   "outputs": [
    {
     "name": "stdout",
     "output_type": "stream",
     "text": [
      "[  1.00000000e+00   1.00000000e-01   1.00000000e-02   1.00000000e-03\n",
      "   1.00000000e-04   1.00000000e-05   1.00000000e-06   1.00000000e-07]\n",
      "[  5.74675852e-01   4.66451904e-02   4.55828838e-03   4.54766726e-04\n",
      "   4.54660515e-05   4.54649953e-06   4.54644955e-07   4.55453824e-08]\n"
     ]
    }
   ],
   "source": [
    "import math\n",
    "import numpy as np\n",
    "import matplotlib.pyplot as plt\n",
    "\n",
    "# initialize empty numpy arrays for step size and error rate\n",
    "step_factor = np.empty(shape=[8])\n",
    "err_factor = np.empty(shape=[8])\n",
    "\n",
    "# left reimann sum function, return the error from calculation and real value\n",
    "def integrate(a, b, dx):\n",
    "    area = 0\n",
    "    x = a\n",
    "    while x <= (b-(dx/2)):\n",
    "        dA = math.sin(x) * dx\n",
    "        x += dx\n",
    "        area += dA\n",
    "    return abs(abs(area - 1.416146836547142386))\n",
    "\n",
    "# try the integral with different step size and store size and error in numpy arrays\n",
    "for i in range(0, 8):\n",
    "    step = float(10**(-1*i))\n",
    "    step_factor[i] = step\n",
    "    err_factor[i] = integrate(0, 2, step)\n",
    "    \n",
    "# show me the datum    \n",
    "print step_factor\n",
    "print err_factor\n",
    "    \n",
    "# plot the log-log graph of step size vs error\n",
    "plt.loglog(step_factor, err_factor, basex=10)\n",
    "plt.grid(True)\n",
    "plt.show()"
   ]
  },
  {
   "cell_type": "code",
   "execution_count": null,
   "metadata": {
    "collapsed": true
   },
   "outputs": [],
   "source": []
  }
 ],
 "metadata": {
  "kernelspec": {
   "display_name": "Python 2",
   "language": "python",
   "name": "python2"
  },
  "language_info": {
   "codemirror_mode": {
    "name": "ipython",
    "version": 2
   },
   "file_extension": ".py",
   "mimetype": "text/x-python",
   "name": "python",
   "nbconvert_exporter": "python",
   "pygments_lexer": "ipython2",
   "version": "2.7.11"
  }
 },
 "nbformat": 4,
 "nbformat_minor": 0
}
